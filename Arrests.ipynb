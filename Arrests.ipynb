{
 "cells": [
  {
   "cell_type": "code",
   "execution_count": 3,
   "metadata": {},
   "outputs": [],
   "source": [
    "import requests\n",
    "import pymongo\n",
    "import json"
   ]
  },
  {
   "cell_type": "code",
   "execution_count": 38,
   "metadata": {},
   "outputs": [
    {
     "name": "stdout",
     "output_type": "stream",
     "text": [
      "{0: {'Admission Year': '2012', 'Admission Month': 'JANUARY', 'Month Code': '1', 'Admission Type': 'NEW COURT COMMITMENT', 'County of Commitment': 'ALBANY', 'Last Known Residence County': None, 'Gender': 'FEMALE', 'Age of Admission': '17', 'Most Serious Crime': 'BURGLARY 3RD'}, 1: {'Admission Year': '2012', 'Admission Month': 'JANUARY', 'Month Code': '1', 'Admission Type': 'NEW COURT COMMITMENT', 'County of Commitment': 'ALBANY', 'Last Known Residence County': None, 'Gender': 'FEMALE', 'Age of Admission': '24', 'Most Serious Crime': 'CRIM SALE CONTROLLED SUB 3RD'}, 2: {'Admission Year': '2012', 'Admission Month': 'JANUARY', 'Month Code': '1', 'Admission Type': 'NEW COURT COMMITMENT', 'County of Commitment': 'ALBANY', 'Last Known Residence County': None, 'Gender': 'FEMALE', 'Age of Admission': '27', 'Most Serious Crime': 'CRIM POSS CONTROLLED SUB 4TH'}, 3: {'Admission Year': '2012', 'Admission Month': 'JANUARY', 'Month Code': '1', 'Admission Type': 'NEW COURT COMMITMENT', 'County of Commitment': 'ALBANY', 'Last Known Residence County': None, 'Gender': 'FEMALE', 'Age of Admission': '41', 'Most Serious Crime': 'CRIM SALE CONTROLLED SUB 3RD'}, 4: {'Admission Year': '2012', 'Admission Month': 'JANUARY', 'Month Code': '1', 'Admission Type': 'NEW COURT COMMITMENT', 'County of Commitment': 'ALBANY', 'Last Known Residence County': None, 'Gender': 'FEMALE', 'Age of Admission': '50', 'Most Serious Crime': 'POS FORGE INS 2ND'}, 5: {'Admission Year': '2012', 'Admission Month': 'JANUARY', 'Month Code': '1', 'Admission Type': 'NEW COURT COMMITMENT', 'County of Commitment': 'ALBANY', 'Last Known Residence County': None, 'Gender': 'MALE', 'Age of Admission': '19', 'Most Serious Crime': 'ROBBERY 2ND'}, 6: {'Admission Year': '2012', 'Admission Month': 'JANUARY', 'Month Code': '1', 'Admission Type': 'NEW COURT COMMITMENT', 'County of Commitment': 'ALBANY', 'Last Known Residence County': None, 'Gender': 'MALE', 'Age of Admission': '19', 'Most Serious Crime': 'ROBBERY 2ND'}, 7: {'Admission Year': '2012', 'Admission Month': 'JANUARY', 'Month Code': '1', 'Admission Type': 'NEW COURT COMMITMENT', 'County of Commitment': 'ALBANY', 'Last Known Residence County': None, 'Gender': 'MALE', 'Age of Admission': '19', 'Most Serious Crime': 'ROBBERY 2ND'}, 8: {'Admission Year': '2012', 'Admission Month': 'JANUARY', 'Month Code': '1', 'Admission Type': 'NEW COURT COMMITMENT', 'County of Commitment': 'ALBANY', 'Last Known Residence County': None, 'Gender': 'MALE', 'Age of Admission': '20', 'Most Serious Crime': 'C POS WEAPON 2ND'}, 9: {'Admission Year': '2012', 'Admission Month': 'JANUARY', 'Month Code': '1', 'Admission Type': 'NEW COURT COMMITMENT', 'County of Commitment': 'ALBANY', 'Last Known Residence County': None, 'Gender': 'MALE', 'Age of Admission': '21', 'Most Serious Crime': 'CRIM POSS CONTROLLED SUB 3RD'}, 10: {'Admission Year': '2012', 'Admission Month': 'JANUARY', 'Month Code': '1', 'Admission Type': 'NEW COURT COMMITMENT', 'County of Commitment': 'ALBANY', 'Last Known Residence County': None, 'Gender': 'MALE', 'Age of Admission': '22', 'Most Serious Crime': 'CRIM POSS CONTROLLED SUB 3RD'}, 11: {'Admission Year': '2012', 'Admission Month': 'JANUARY', 'Month Code': '1', 'Admission Type': 'NEW COURT COMMITMENT', 'County of Commitment': 'ALBANY', 'Last Known Residence County': None, 'Gender': 'MALE', 'Age of Admission': '23', 'Most Serious Crime': 'ASSAULT 2ND'}, 12: {'Admission Year': '2012', 'Admission Month': 'JANUARY', 'Month Code': '1', 'Admission Type': 'NEW COURT COMMITMENT', 'County of Commitment': 'ALBANY', 'Last Known Residence County': None, 'Gender': 'MALE', 'Age of Admission': '23', 'Most Serious Crime': 'CONTEMPT 1ST'}, 13: {'Admission Year': '2012', 'Admission Month': 'JANUARY', 'Month Code': '1', 'Admission Type': 'NEW COURT COMMITMENT', 'County of Commitment': 'ALBANY', 'Last Known Residence County': None, 'Gender': 'MALE', 'Age of Admission': '25', 'Most Serious Crime': 'BURGLARY 3RD'}, 14: {'Admission Year': '2012', 'Admission Month': 'JANUARY', 'Month Code': '1', 'Admission Type': 'NEW COURT COMMITMENT', 'County of Commitment': 'ALBANY', 'Last Known Residence County': None, 'Gender': 'MALE', 'Age of Admission': '26', 'Most Serious Crime': 'CRIM SALE CONTROLLED SUB 3RD'}}\n"
     ]
    }
   ],
   "source": [
    "def mongoConnection():\n",
    "    \"\"\" Function to connect to Mongo Server\"\"\"\n",
    "    try:\n",
    "        mongoClient = pymongo.MongoClient(\"mongodb://localhost:27017/\")\n",
    "        mongoDB = mongoClient[\"prisonAdmissions\"]\n",
    "        mongoCollection = mongoDB[\"prisonAdmissions\"]\n",
    "        return mongoCollection\n",
    "    except Exception as error:\n",
    "        print (error)\n",
    "        \n",
    "def postgreSQLConnection():\n",
    "    \"\"\" Function to connect to PostgreSQL Server \"\"\"\n",
    "    try:\n",
    "        \n",
    "    except Exception as error:\n",
    "        print (error)\n",
    "\n",
    "def fetchData(URL):\n",
    "    \"\"\" Function to fetch data via an API \"\"\"\n",
    "    try:\n",
    "        response = requests.get(URL) # Fetch data from the URL\n",
    "        prisonAdmissionsJson = response.json()\n",
    "        return prisonAdmissionsJson # return data\n",
    "    except Exception as error:\n",
    "        print (error)\n",
    "        \n",
    "mongoCollection = mongoConnection() # Connection to mongoDB\n",
    "\n",
    "# prisonAdmissionsJson = fetchData(\"https://data.ny.gov/api/views/m2rg-xjan/rows.json?accessType=DOWNLOAD\") # Fetch data from the URL\n",
    "# prisonAdmissionsDict = {} # Save the JSON data in Dictionary\n",
    "\n",
    "# Extracting data from the Prison admission JSON\n",
    "# Step one) Extract meta data from the JSON. Meta contains all the column names\n",
    "# for keys, values in enumerate(prisonAdmissionsJson[\"meta\"][\"view\"][\"columns\"]):\n",
    "#     # print (values)\n",
    "#     # Note:- While cleaning the data ignore all 'id' which are -1\n",
    "#     prisonAdmissionsDict[keys] = {} # Adding an empty dictionary at the key (index)\n",
    "#     prisonAdmissionsDict[keys][\"data\"] = values # Row data\n",
    "#     prisonAdmissionsDict[keys][\"type\"] = \"meta\" # Type of data i.e. meta/data\n",
    "#     mongoCollection.insert_one(prisonAdmissionsDict[keys]) # Insert a row in mongodb\n",
    "\n",
    "# Step two) Extract data from the JSON. Data contains all the rows and saving into MongoDB\n",
    "# for keys, values in enumerate(prisonAdmissionsJson[\"data\"]):\n",
    "#     prisonAdmissionsDict[keys] = {} # Adding an empty dictionary at the key (index)\n",
    "#     prisonAdmissionsDict[keys][\"data\"] = values # Row data\n",
    "#     prisonAdmissionsDict[keys][\"type\"] = \"data\" # Type of data i.e. meta/data\n",
    "#     # Insert a row in mongodb\n",
    "#     mongoCollection.insert_one(prisonAdmissionsDict[keys]) \n",
    "    # if keys > 5:\n",
    "    #   break\n",
    "# print (prisonAdmissionsDict)\n",
    "\n",
    "# Step three) Extract data from MongoDB & Insert into PostgreSQL\n",
    "try:\n",
    "    prisonAdmissionCleaned = {}\n",
    "    mongoResults = mongoCollection.find({ \"type\": \"data\" }).limit(15) # Return all the data from the collection\n",
    "    for keys, values in enumerate(mongoResults):\n",
    "        # print (values[\"data\"])\n",
    "        # Mapping values to keys\n",
    "        prisonAdmissionCleaned[keys] = {} # Adding an empty dictionary at the key (index)\n",
    "        prisonAdmissionCleaned[keys][\"Admission Year\"] = values[\"data\"][8]  \n",
    "        prisonAdmissionCleaned[keys][\"Admission Month\"] = values[\"data\"][9]  \n",
    "        prisonAdmissionCleaned[keys][\"Month Code\"] = values[\"data\"][10]\n",
    "        prisonAdmissionCleaned[keys][\"Admission Type\"] = values[\"data\"][11]\n",
    "        prisonAdmissionCleaned[keys][\"County of Commitment\"] = values[\"data\"][12]  \n",
    "        prisonAdmissionCleaned[keys][\"Last Known Residence County\"] = values[\"data\"][13]\n",
    "        prisonAdmissionCleaned[keys][\"Gender\"] = values[\"data\"][14]\n",
    "        prisonAdmissionCleaned[keys][\"Age of Admission\"] = values[\"data\"][15]\n",
    "        prisonAdmissionCleaned[keys][\"Most Serious Crime\"] = values[\"data\"][16]\n",
    "        \n",
    "        # Insert data into PostgreSQL\n",
    "        \n",
    "    # print(prisonAdmissionCleaned)\n",
    "except Exception as error:\n",
    "    print(error)\n",
    "    \n",
    "# Step four) Extract data from PostgreSQL\n",
    "\n",
    "\n",
    "# Step five) EDA"
   ]
  },
  {
   "cell_type": "code",
   "execution_count": null,
   "metadata": {},
   "outputs": [],
   "source": []
  }
 ],
 "metadata": {
  "kernelspec": {
   "display_name": "Python 3",
   "language": "python",
   "name": "python3"
  },
  "language_info": {
   "codemirror_mode": {
    "name": "ipython",
    "version": 3
   },
   "file_extension": ".py",
   "mimetype": "text/x-python",
   "name": "python",
   "nbconvert_exporter": "python",
   "pygments_lexer": "ipython3",
   "version": "3.7.3"
  }
 },
 "nbformat": 4,
 "nbformat_minor": 2
}
