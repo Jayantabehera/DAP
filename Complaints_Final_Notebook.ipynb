{
 "cells": [
  {
   "cell_type": "code",
   "execution_count": 1,
   "metadata": {},
   "outputs": [],
   "source": [
    "#All the required imports\n",
    "import requests\n",
    "import json\n",
    "from pymongo import MongoClient\n",
    "import pandas as pd\n",
    "import datetime as dt\n",
    "import seaborn as sns\n",
    "%matplotlib inline\n",
    "import matplotlib.pyplot as plt\n",
    "import plotly.graph_objects as go\n",
    "import psycopg2\n",
    "import csv\n",
    "import numpy as np\n",
    "import datetime as dt"
   ]
  },
  {
   "cell_type": "code",
   "execution_count": 2,
   "metadata": {},
   "outputs": [
    {
     "name": "stdout",
     "output_type": "stream",
     "text": [
      "Please type the year for which analysis to be done. The year should be between 2012 to 2018.2018\n"
     ]
    }
   ],
   "source": [
    "#Take input from the user for the year and accordingly fetch the data from API\n",
    "baseurl = \"https://data.cityofnewyork.us/resource/qgea-i56i.json?$$app_token=wK7SaysF0k1J53sWS6fKyaxT0\"\n",
    "# year based on input \n",
    "count_url = \"&$select=count(cmplnt_num)\"\n",
    "year = input(\"Please type the year for which analysis to be done. The year should be between 2012 to 2018.\")\n",
    "year_url = \"&$where=date_extract_y(cmplnt_fr_dt) in (\" + year + \")\""
   ]
  },
  {
   "cell_type": "code",
   "execution_count": 3,
   "metadata": {},
   "outputs": [
    {
     "name": "stderr",
     "output_type": "stream",
     "text": [
      "C:\\ProgramData\\Anaconda3\\lib\\site-packages\\ipykernel_launcher.py:23: DeprecationWarning:\n",
      "\n",
      "count is deprecated. Use Collection.count_documents instead.\n",
      "\n",
      "C:\\ProgramData\\Anaconda3\\lib\\site-packages\\ipykernel_launcher.py:25: DeprecationWarning:\n",
      "\n",
      "remove is deprecated. Use delete_one or delete_many instead.\n",
      "\n"
     ]
    },
    {
     "name": "stdout",
     "output_type": "stream",
     "text": [
      "452997\n",
      "True\n",
      "452997\n"
     ]
    },
    {
     "name": "stderr",
     "output_type": "stream",
     "text": [
      "C:\\ProgramData\\Anaconda3\\lib\\site-packages\\ipykernel_launcher.py:40: DeprecationWarning:\n",
      "\n",
      "count is deprecated. Use Collection.count_documents instead.\n",
      "\n"
     ]
    }
   ],
   "source": [
    "#Fetch count of existing records from API.\n",
    "try:\n",
    "    urlfinal = baseurl + year_url + count_url\n",
    "    response = requests.get(urlfinal)\n",
    "    complaint_count = json.loads(response.text)\n",
    "    total_count = complaint_count[0]['count_cmplnt_num']\n",
    "except:\n",
    "    print(response.status_code)\n",
    "    print(\"Error in fetching data from API. Data not found.\")\n",
    "\n",
    "\n",
    "#Retrieveing all the data for the year.\n",
    "limit_url = \"&$limit=\"+str(total_count)\n",
    "\n",
    "#Connect to MongoDB\n",
    "mdb_client = MongoClient(\"mongodb://localhost:27017/\")\n",
    "#Create Database\n",
    "project_db = mdb_client[\"NewYorkData\"]\n",
    "#Create Collection\n",
    "complaint_col = project_db[\"ComplaintsCollection\"]\n",
    "\n",
    "#If records already present in MongoDB. Cleaning up the previous records.\n",
    "existing_records_count = complaint_col.find().count()\n",
    "if (existing_records_count > 0):\n",
    "    complaint_col.remove()\n",
    "\n",
    "\n",
    "page_url = baseurl+year_url+limit_url\n",
    "page_response = requests.get(page_url)\n",
    "complaint_data = json.loads(page_response.text)\n",
    "#Count the number of records fetched from API\n",
    "fetched_records_count = len(complaint_data)\n",
    "print(fetched_records_count)\n",
    "#Insert data to the ComplaintsCollection\n",
    "inserted_records = complaint_col.insert_many(complaint_data)\n",
    "inserted_records_count = len(inserted_records.inserted_ids)\n",
    "print(fetched_records_count == inserted_records_count)\n",
    "\n",
    "#Check count of inserted records\n",
    "inserted_count = complaint_col.find().count()\n",
    "print(inserted_count)"
   ]
  },
  {
   "cell_type": "code",
   "execution_count": 4,
   "metadata": {},
   "outputs": [],
   "source": [
    "#Connect to MongoDB\n",
    "mdb_client = MongoClient(\"mongodb://localhost:27017/\")\n",
    "#Create Database\n",
    "project_db = mdb_client[\"NewYorkData\"]\n",
    "#Create Collection\n",
    "complaint_col = project_db[\"ComplaintsCollection\"]\n",
    "#Fetching data from MongoDB and converting into DataFrame.\n",
    "complaints_df = pd.DataFrame(list(complaint_col.find()))"
   ]
  },
  {
   "cell_type": "code",
   "execution_count": 5,
   "metadata": {},
   "outputs": [
    {
     "name": "stderr",
     "output_type": "stream",
     "text": [
      "C:\\ProgramData\\Anaconda3\\lib\\site-packages\\ipykernel_launcher.py:49: SettingWithCopyWarning:\n",
      "\n",
      "\n",
      "A value is trying to be set on a copy of a slice from a DataFrame.\n",
      "Try using .loc[row_indexer,col_indexer] = value instead\n",
      "\n",
      "See the caveats in the documentation: http://pandas.pydata.org/pandas-docs/stable/user_guide/indexing.html#returning-a-view-versus-a-copy\n",
      "\n",
      "C:\\ProgramData\\Anaconda3\\lib\\site-packages\\ipykernel_launcher.py:50: SettingWithCopyWarning:\n",
      "\n",
      "\n",
      "A value is trying to be set on a copy of a slice from a DataFrame.\n",
      "Try using .loc[row_indexer,col_indexer] = value instead\n",
      "\n",
      "See the caveats in the documentation: http://pandas.pydata.org/pandas-docs/stable/user_guide/indexing.html#returning-a-view-versus-a-copy\n",
      "\n",
      "C:\\ProgramData\\Anaconda3\\lib\\site-packages\\ipykernel_launcher.py:51: SettingWithCopyWarning:\n",
      "\n",
      "\n",
      "A value is trying to be set on a copy of a slice from a DataFrame.\n",
      "Try using .loc[row_indexer,col_indexer] = value instead\n",
      "\n",
      "See the caveats in the documentation: http://pandas.pydata.org/pandas-docs/stable/user_guide/indexing.html#returning-a-view-versus-a-copy\n",
      "\n",
      "C:\\ProgramData\\Anaconda3\\lib\\site-packages\\ipykernel_launcher.py:52: SettingWithCopyWarning:\n",
      "\n",
      "\n",
      "A value is trying to be set on a copy of a slice from a DataFrame.\n",
      "Try using .loc[row_indexer,col_indexer] = value instead\n",
      "\n",
      "See the caveats in the documentation: http://pandas.pydata.org/pandas-docs/stable/user_guide/indexing.html#returning-a-view-versus-a-copy\n",
      "\n",
      "C:\\ProgramData\\Anaconda3\\lib\\site-packages\\ipykernel_launcher.py:53: SettingWithCopyWarning:\n",
      "\n",
      "\n",
      "A value is trying to be set on a copy of a slice from a DataFrame.\n",
      "Try using .loc[row_indexer,col_indexer] = value instead\n",
      "\n",
      "See the caveats in the documentation: http://pandas.pydata.org/pandas-docs/stable/user_guide/indexing.html#returning-a-view-versus-a-copy\n",
      "\n"
     ]
    }
   ],
   "source": [
    "#Preprocessing and cleaning the data.\n",
    "#Dropping some unneccessary fields\n",
    "complaints_df.drop(['_id','cmplnt_to_dt','cmplnt_to_tm','parks_nm','hadevelopt','housing_psa',\n",
    "                   'transit_district','station_name','loc_of_occur_desc','lat_lon','x_coord_cd','y_coord_cd'], axis=1, inplace=True)\n",
    "\n",
    "#Imputing age_group by using a normal distribution\n",
    "np.random.seed(100)\n",
    "complaints_df.loc[~complaints_df[\"susp_age_group\"].isin(['<18','25-44','45-64','18-24','65+']),\n",
    "                 \"susp_age_group\"] = np.nan\n",
    "randomInts = np.random.normal(loc=0, scale=0.6, size= complaints_df.susp_age_group.isnull().sum()).astype(int)\n",
    "complaints_df.susp_age_group[complaints_df['susp_age_group'].isnull()] = randomInts\n",
    "complaints_df.replace({-2:'<18',0:'25-44',1:'45-64',-1:'18-24',2:'65+'},inplace=True)\n",
    "\n",
    "#Imputing susp race randomly\n",
    "np.random.seed(100)\n",
    "complaints_df.loc[complaints_df[\"susp_race\"].isin(['UNKNOWN']),\"susp_race\"] = np.nan\n",
    "rand_int = np.random.randint(0,6,size = complaints_df.susp_race.isnull().sum())\n",
    "complaints_df.susp_race[complaints_df['susp_race'].isnull()] = rand_int\n",
    "complaints_df.susp_race.replace({0:'WHITE HISPANIC',1:'BLACK',2:'WHITE',3:'BLACK HISPANIC',\n",
    "                      4:'ASIAN / PACIFIC ISLANDER',5:'AMERICAN INDIAN/ALASKAN NATIVE'},inplace=True)\n",
    "\n",
    "#Imputing victim age group randomly\n",
    "np.random.seed(100)\n",
    "complaints_df.loc[~complaints_df[\"vic_age_group\"].isin(['<18','25-44','45-64','18-24','65+']),\n",
    "                 \"vic_age_group\"] = np.nan\n",
    "randomInts = np.random.normal(loc=0, scale=0.6, size= complaints_df.vic_age_group.isnull().sum()).astype(int)\n",
    "complaints_df.vic_age_group[complaints_df['vic_age_group'].isnull()] = randomInts\n",
    "complaints_df.replace({-2:'<18',0:'25-44',1:'45-64',-1:'18-24',2:'65+'},inplace=True)\n",
    "\n",
    "# #Imputing Victim race randomly\n",
    "np.random.seed(100)\n",
    "complaints_df.loc[complaints_df[\"vic_race\"].isin(['UNKNOWN']),\"susp_race\"] = np.nan\n",
    "rand_int = np.random.randint(0,6,size = complaints_df.vic_race.isnull().sum())\n",
    "complaints_df.vic_race[complaints_df['vic_race'].isnull()] = rand_int\n",
    "complaints_df.vic_race.replace({0:'WHITE HISPANIC',1:'BLACK',2:'WHITE',3:'BLACK HISPANIC',\n",
    "                      4:'ASIAN / PACIFIC ISLANDER',5:'AMERICAN INDIAN/ALASKAN NATIVE'},inplace=True)\n",
    "\n",
    "##Imputing susp sex randomly\n",
    "np.random.seed(100)\n",
    "complaints_df.loc[complaints_df[\"susp_sex\"].isin(['U']),\"susp_sex\"] = np.nan\n",
    "rand_int = np.random.randint(0,2,size = complaints_df.susp_sex.isnull().sum())\n",
    "#elem,counts = np.unique(rand_int,return_counts = True)\n",
    "complaints_df.susp_sex[complaints_df['susp_sex'].isnull()] = rand_int\n",
    "complaints_df.susp_sex.replace({0:'M',1:'F'},inplace=True)\n",
    "\n",
    "## As a very small percentage of other data is missing, just dropping those rows\n",
    "complaints_clean_df = complaints_df.dropna()\n",
    "\n",
    "complaints_clean_df[\"day\"] = complaints_clean_df[\"cmplnt_fr_dt\"].apply(lambda x:  dt.datetime.strptime(x, \"%Y-%m-%dT%H:%M:%S.%f\").strftime(\"%A\")) # Convert the format\n",
    "complaints_clean_df[\"month\"] = complaints_clean_df[\"cmplnt_fr_dt\"].apply(lambda x:  dt.datetime.strptime(x, \"%Y-%m-%dT%H:%M:%S.%f\").strftime(\"%B\")) # Convert the format\n",
    "complaints_clean_df[\"month_number\"] = complaints_clean_df[\"cmplnt_fr_dt\"].apply(lambda x:  dt.datetime.strptime(x, \"%Y-%m-%dT%H:%M:%S.%f\").strftime(\"%m\")) # Convert the format\n",
    "complaints_clean_df['cmplnt_fr_dt'] = pd.to_datetime(complaints_clean_df.cmplnt_fr_dt)\n",
    "#complaints_clean_df['cmplnt_fr_dt'] = pd.to_datetime(complaints_clean_df.cmplnt_fr_dt)\n",
    "\n",
    "#Exporting Cleaned data to csv\n",
    "#complaints_clean_df.to_csv ('cleaned_complaints_data.csv', index = None, header=True)"
   ]
  },
  {
   "cell_type": "code",
   "execution_count": 7,
   "metadata": {},
   "outputs": [],
   "source": [
    "#ConnectToPostgres and create database\n",
    "try:\n",
    "    dbConnection = psycopg2.connect(\n",
    "    user = \"postgres\",\n",
    "    password = \"dublin\",\n",
    "    host = \"127.0.0.1\",\n",
    "    port = \"5432\",\n",
    "    database = \"postgres\")\n",
    "    dbConnection.set_isolation_level(0) # AUTOCOMMIT\n",
    "    dbCursor = dbConnection.cursor()\n",
    "    dbCursor.execute('CREATE DATABASE NewYorkData;')   #Creating Database\n",
    "    dbCursor.close()\n",
    "except (Exception , psycopg2.Error) as dbError :\n",
    "    print (\"Error while connecting to PostgreSQL\", dbError)\n",
    "finally:\n",
    "    if(dbConnection): dbConnection.close()"
   ]
  },
  {
   "cell_type": "code",
   "execution_count": 34,
   "metadata": {},
   "outputs": [],
   "source": [
    "#Create Required Tables\n",
    "try:\n",
    "    dbConnection = psycopg2.connect(\n",
    "    user = \"postgres\",\n",
    "    password = \"dublin\",\n",
    "    host = \"127.0.0.1\",\n",
    "    port = \"5432\",\n",
    "    database = \"newyorkdata\")\n",
    "    dbConnection.set_isolation_level(0) # AUTOCOMMIT\n",
    "    dbCursor = dbConnection.cursor()\n",
    "    dbCursor.execute(\"\"\"\n",
    "                     CREATE TABLE Complaints(\n",
    "                             cmplnt_num varchar(50) PRIMARY KEY,\n",
    "                             cmplnt_fr_dt date , \n",
    "                             cmplnt_fr_tm time , \n",
    "                             addr_pct_cd varchar(100), \n",
    "                             rpt_dt varchar(100),\n",
    "                             ky_cd varchar(100),\n",
    "                             ofns_desc varchar(100),\n",
    "                             pd_cd varchar(100),\n",
    "                             pd_desc varchar(100),\n",
    "                             crm_atpt_cptd_cd varchar(100),\n",
    "                             law_cat_cd varchar(100),\n",
    "                             boro_nm varchar(100),\n",
    "                             prem_typ_desc varchar(100),\n",
    "                             juris_desc varchar(100),\n",
    "                             jurisdiction_code varchar(100),\n",
    "                             latitude varchar(100),\n",
    "                             longitude varchar(100),\n",
    "                             patrol_boro varchar(100),\n",
    "                             vic_age_group varchar(100),\n",
    "                             vic_race varchar(100),\n",
    "                             vic_sex varchar(100),\n",
    "                             susp_age_group varchar(100),\n",
    "                             susp_race varchar(100),\n",
    "                             susp_sex varchar(100),\n",
    "                             day varchar(100),\n",
    "                             month varchar(100),\n",
    "                             month_number int \n",
    "                            );\n",
    "                    \"\"\")\n",
    "    dbCursor.close()\n",
    "except (Exception , psycopg2.Error) as dbError :\n",
    "    print (\"Error while connecting to PostgreSQL\", dbError)\n",
    "finally:\n",
    "    if(dbConnection): dbConnection.close()"
   ]
  },
  {
   "cell_type": "code",
   "execution_count": 35,
   "metadata": {},
   "outputs": [],
   "source": [
    "#Export to csv and load to postgres\n",
    "complaint_csv = complaints_clean_df.to_csv ('complaint.csv', index = None, header=True)\n",
    "try:\n",
    "    dbConnection = psycopg2.connect(\n",
    "    user = \"postgres\",\n",
    "    password = \"dublin\",\n",
    "    host = \"127.0.0.1\",\n",
    "    port = \"5432\",\n",
    "    database = \"newyorkdata\")\n",
    "    dbConnection.set_isolation_level(0) # AUTOCOMMIT\n",
    "    dbCursor = dbConnection.cursor()\n",
    "    with open ('complaint.csv', 'r') as f:\n",
    "        reader = csv.reader(f)\n",
    "        next(reader) # Skip the header row.\n",
    "        for row in reader:\n",
    "            dbCursor.execute(\n",
    "            \"INSERT INTO complaints VALUES (%s, %s,%s, %s,%s, %s,%s, %s,%s, %s,%s, %s,%s, %s,%s, %s,%s, %s,%s, %s,%s, %s,%s, %s,%s, %s,%s)\",\n",
    "            row\n",
    "        )\n",
    "    dbConnection.commit()\n",
    "    dbCursor.close()\n",
    "except (Exception , psycopg2.Error) as dbError :\n",
    "    print (\"Error while connecting to PostgreSQL\", dbError)\n",
    "finally:\n",
    "    if(dbConnection): dbConnection.close()"
   ]
  },
  {
   "cell_type": "code",
   "execution_count": 35,
   "metadata": {},
   "outputs": [
    {
     "name": "stdout",
     "output_type": "stream",
     "text": [
      "AxesSubplot(0.125,0.125;0.775x0.755)\n"
     ]
    },
    {
     "data": {
      "image/png": "[encoded data removed]",
      "text/plain": [
       "<Figure size 432x288 with 1 Axes>"
      ]
     },
     "metadata": {
      "needs_background": "light"
     },
     "output_type": "display_data"
    }
   ],
   "source": [
    "#This is the bragraph that represents the top 5 months in the year 2018 with maximum number of complaints.\n",
    "graph_oneDF = complaints_clean_df.groupby(\"month\").count()[[\"day\"]].reset_index()\n",
    "graph_oneDF = graph_oneDF.sort_values(\"day\", ascending = False)\n",
    "# print (graph_oneDF)\n",
    "\n",
    "ax = sns.barplot(x = \"month\", y = \"day\", data = graph_oneDF[0:5])\n",
    "print (ax)"
   ]
  },
  {
   "cell_type": "code",
   "execution_count": 37,
   "metadata": {},
   "outputs": [
    {
     "name": "stdout",
     "output_type": "stream",
     "text": [
      "    month_number                       ofns_desc   day\n",
      "178           06                   HARRASSMENT 2  6060\n",
      "144           05                   HARRASSMENT 2  6058\n",
      "208           07                   HARRASSMENT 2  5696\n",
      "235           08                   HARRASSMENT 2  5649\n",
      "300           10                   HARRASSMENT 2  5632\n",
      "..           ...                             ...   ...\n",
      "47            02            FRAUDULENT ACCOSTING     9\n",
      "153           05  OTHER STATE LAWS (NON PENAL LA     9\n",
      "205           07            FRAUDULENT ACCOSTING     9\n",
      "86            03        OFFENSES INVOLVING FRAUD     6\n",
      "68            03                 BURGLAR'S TOOLS     4\n",
      "\n",
      "[380 rows x 3 columns]\n"
     ]
    },
    {
     "data": {
      "image/png": "[encoded data removed]",
      "text/plain": [
       "<Figure size 720x576 with 2 Axes>"
      ]
     },
     "metadata": {
      "needs_background": "light"
     },
     "output_type": "display_data"
    }
   ],
   "source": [
    "graph_twoDF = complaints_clean_df.groupby([\"month_number\",\"ofns_desc\"]).count()[[\"day\"]].reset_index()\n",
    "graph_twoDF = graph_twoDF.sort_values(\"day\", ascending = False)\n",
    "print (graph_twoDF)\n",
    "graph_twoDF = graph_twoDF.pivot(\"ofns_desc\",\"month_number\",\"day\")\n",
    "plt.figure(figsize=(10, 8))\n",
    "x_axis_labels = ['January','February','March','April','May','June','July','August','September','October','November','December']\n",
    "plt.ylabel('Month of the Year', size=15)\n",
    "plt.xlabel('Offence Name',size = 15)\n",
    "plt.title('Complaints Count By Month')\n",
    "sns.heatmap(graph_twoDF, square =True,  xticklabels=x_axis_labels, cmap = 'Greens');"
   ]
  },
  {
   "cell_type": "code",
   "execution_count": 38,
   "metadata": {},
   "outputs": [
    {
     "data": {
      "image/png": "[encoded data removed]",
      "text/plain": [
       "<Figure size 720x576 with 2 Axes>"
      ]
     },
     "metadata": {
      "needs_background": "light"
     },
     "output_type": "display_data"
    }
   ],
   "source": [
    "graph_threeDF = complaints_clean_df.groupby([\"susp_age_group\",\"ofns_desc\"]).count()[[\"day\"]].reset_index()\n",
    "graph_threeDF = graph_threeDF.sort_values(\"day\", ascending = False)\n",
    "#print (graph_threeDF)\n",
    "graph_threeDF = graph_threeDF.pivot(\"ofns_desc\",\"susp_age_group\",\"day\")\n",
    "plt.figure(figsize=(10, 8))\n",
    "plt.xlabel('Offence Name',size = 10)\n",
    "plt.ylabel('Age Group', size=10)\n",
    "plt.title('Crimes by Age group')\n",
    "sns.heatmap(graph_threeDF, square =True, cmap = 'Greens');"
   ]
  },
  {
   "cell_type": "code",
   "execution_count": 41,
   "metadata": {},
   "outputs": [
    {
     "data": {
      "application/vnd.plotly.v1+json": {
       "config": {
        "plotlyServerURL": "https://plot.ly"
       },
       "data": [
        {
         "name": "25-44",
         "type": "bar",
         "x": [
          "Black",
          "White Hispanic",
          "White",
          "Asian / Pacific Islander",
          "Black Hispanic",
          "American Indian/Alaskan Native"
         ],
         "y": [
          54932,
          39628,
          34160,
          15722,
          8686,
          1304
         ]
        },
        {
         "name": "45-64",
         "type": "bar",
         "x": [
          "Black",
          "White",
          "White Hispanic",
          "Asian / Pacific Islander",
          "Black Hispanic",
          "American Indian/Alaskan Native"
         ],
         "y": [
          29927,
          20866,
          17353,
          8536,
          3804,
          666
         ]
        },
        {
         "name": "18-24",
         "type": "bar",
         "x": [
          "Black",
          "White Hispanic",
          "White",
          "Asian / Pacific Islander",
          "Black Hispanic",
          "American Indian/Alaskan Native"
         ],
         "y": [
          15477,
          11785,
          7280,
          4518,
          2761,
          379
         ]
        },
        {
         "name": "65+",
         "type": "bar",
         "x": [
          "White",
          "Black",
          "White Hispanic",
          "Asian / Pacific Islander",
          "Black Hispanic",
          "American Indian/Alaskan Native"
         ],
         "y": [
          7391,
          5578,
          3010,
          1454,
          693,
          87
         ]
        },
        {
         "name": "<18",
         "type": "bar",
         "x": [
          "Black",
          "White Hispanic",
          "White",
          "Black Hispanic",
          "Asian / Pacific Islander",
          "American Indian/Alaskan Native"
         ],
         "y": [
          7227,
          5623,
          2041,
          1492,
          1277,
          87
         ]
        }
       ],
       "layout": {
        "template": {
         "data": {
          "bar": [
           {
            "error_x": {
             "color": "#2a3f5f"
            },
            "error_y": {
             "color": "#2a3f5f"
            },
            "marker": {
             "line": {
              "color": "#E5ECF6",
              "width": 0.5
             }
            },
            "type": "bar"
           }
          ],
          "barpolar": [
           {
            "marker": {
             "line": {
              "color": "#E5ECF6",
              "width": 0.5
             }
            },
            "type": "barpolar"
           }
          ],
          "carpet": [
           {
            "aaxis": {
             "endlinecolor": "#2a3f5f",
             "gridcolor": "white",
             "linecolor": "white",
             "minorgridcolor": "white",
             "startlinecolor": "#2a3f5f"
            },
            "baxis": {
             "endlinecolor": "#2a3f5f",
             "gridcolor": "white",
             "linecolor": "white",
             "minorgridcolor": "white",
             "startlinecolor": "#2a3f5f"
            },
            "type": "carpet"
           }
          ],
          "choropleth": [
           {
            "colorbar": {
             "outlinewidth": 0,
             "ticks": ""
            },
            "type": "choropleth"
           }
          ],
          "contour": [
           {
            "colorbar": {
             "outlinewidth": 0,
             "ticks": ""
            },
            "colorscale": [
             [
              0,
              "#0d0887"
             ],
             [
              0.1111111111111111,
              "#46039f"
             ],
             [
              0.2222222222222222,
              "#7201a8"
             ],
             [
              0.3333333333333333,
              "#9c179e"
             ],
             [
              0.4444444444444444,
              "#bd3786"
             ],
             [
              0.5555555555555556,
              "#d8576b"
             ],
             [
              0.6666666666666666,
              "#ed7953"
             ],
             [
              0.7777777777777778,
              "#fb9f3a"
             ],
             [
              0.8888888888888888,
              "#fdca26"
             ],
             [
              1,
              "#f0f921"
             ]
            ],
            "type": "contour"
           }
          ],
          "contourcarpet": [
           {
            "colorbar": {
             "outlinewidth": 0,
             "ticks": ""
            },
            "type": "contourcarpet"
           }
          ],
          "heatmap": [
           {
            "colorbar": {
             "outlinewidth": 0,
             "ticks": ""
            },
            "colorscale": [
             [
              0,
              "#0d0887"
             ],
             [
              0.1111111111111111,
              "#46039f"
             ],
             [
              0.2222222222222222,
              "#7201a8"
             ],
             [
              0.3333333333333333,
              "#9c179e"
             ],
             [
              0.4444444444444444,
              "#bd3786"
             ],
             [
              0.5555555555555556,
              "#d8576b"
             ],
             [
              0.6666666666666666,
              "#ed7953"
             ],
             [
              0.7777777777777778,
              "#fb9f3a"
             ],
             [
              0.8888888888888888,
              "#fdca26"
             ],
             [
              1,
              "#f0f921"
             ]
            ],
            "type": "heatmap"
           }
          ],
          "heatmapgl": [
           {
            "colorbar": {
             "outlinewidth": 0,
             "ticks": ""
            },
            "colorscale": [
             [
              0,
              "#0d0887"
             ],
             [
              0.1111111111111111,
              "#46039f"
             ],
             [
              0.2222222222222222,
              "#7201a8"
             ],
             [
              0.3333333333333333,
              "#9c179e"
             ],
             [
              0.4444444444444444,
              "#bd3786"
             ],
             [
              0.5555555555555556,
              "#d8576b"
             ],
             [
              0.6666666666666666,
              "#ed7953"
             ],
             [
              0.7777777777777778,
              "#fb9f3a"
             ],
             [
              0.8888888888888888,
              "#fdca26"
             ],
             [
              1,
              "#f0f921"
             ]
            ],
            "type": "heatmapgl"
           }
          ],
          "histogram": [
           {
            "marker": {
             "colorbar": {
              "outlinewidth": 0,
              "ticks": ""
             }
            },
            "type": "histogram"
           }
          ],
          "histogram2d": [
           {
            "colorbar": {
             "outlinewidth": 0,
             "ticks": ""
            },
            "colorscale": [
             [
              0,
              "#0d0887"
             ],
             [
              0.1111111111111111,
              "#46039f"
             ],
             [
              0.2222222222222222,
              "#7201a8"
             ],
             [
              0.3333333333333333,
              "#9c179e"
             ],
             [
              0.4444444444444444,
              "#bd3786"
             ],
             [
              0.5555555555555556,
              "#d8576b"
             ],
             [
              0.6666666666666666,
              "#ed7953"
             ],
             [
              0.7777777777777778,
              "#fb9f3a"
             ],
             [
              0.8888888888888888,
              "#fdca26"
             ],
             [
              1,
              "#f0f921"
             ]
            ],
            "type": "histogram2d"
           }
          ],
          "histogram2dcontour": [
           {
            "colorbar": {
             "outlinewidth": 0,
             "ticks": ""
            },
            "colorscale": [
             [
              0,
              "#0d0887"
             ],
             [
              0.1111111111111111,
              "#46039f"
             ],
             [
              0.2222222222222222,
              "#7201a8"
             ],
             [
              0.3333333333333333,
              "#9c179e"
             ],
             [
              0.4444444444444444,
              "#bd3786"
             ],
             [
              0.5555555555555556,
              "#d8576b"
             ],
             [
              0.6666666666666666,
              "#ed7953"
             ],
             [
              0.7777777777777778,
              "#fb9f3a"
             ],
             [
              0.8888888888888888,
              "#fdca26"
             ],
             [
              1,
              "#f0f921"
             ]
            ],
            "type": "histogram2dcontour"
           }
          ],
          "mesh3d": [
           {
            "colorbar": {
             "outlinewidth": 0,
             "ticks": ""
            },
            "type": "mesh3d"
           }
          ],
          "parcoords": [
           {
            "line": {
             "colorbar": {
              "outlinewidth": 0,
              "ticks": ""
             }
            },
            "type": "parcoords"
           }
          ],
          "pie": [
           {
            "automargin": true,
            "type": "pie"
           }
          ],
          "scatter": [
           {
            "marker": {
             "colorbar": {
              "outlinewidth": 0,
              "ticks": ""
             }
            },
            "type": "scatter"
           }
          ],
          "scatter3d": [
           {
            "line": {
             "colorbar": {
              "outlinewidth": 0,
              "ticks": ""
             }
            },
            "marker": {
             "colorbar": {
              "outlinewidth": 0,
              "ticks": ""
             }
            },
            "type": "scatter3d"
           }
          ],
          "scattercarpet": [
           {
            "marker": {
             "colorbar": {
              "outlinewidth": 0,
              "ticks": ""
             }
            },
            "type": "scattercarpet"
           }
          ],
          "scattergeo": [
           {
            "marker": {
             "colorbar": {
              "outlinewidth": 0,
              "ticks": ""
             }
            },
            "type": "scattergeo"
           }
          ],
          "scattergl": [
           {
            "marker": {
             "colorbar": {
              "outlinewidth": 0,
              "ticks": ""
             }
            },
            "type": "scattergl"
           }
          ],
          "scattermapbox": [
           {
            "marker": {
             "colorbar": {
              "outlinewidth": 0,
              "ticks": ""
             }
            },
            "type": "scattermapbox"
           }
          ],
          "scatterpolar": [
           {
            "marker": {
             "colorbar": {
              "outlinewidth": 0,
              "ticks": ""
             }
            },
            "type": "scatterpolar"
           }
          ],
          "scatterpolargl": [
           {
            "marker": {
             "colorbar": {
              "outlinewidth": 0,
              "ticks": ""
             }
            },
            "type": "scatterpolargl"
           }
          ],
          "scatterternary": [
           {
            "marker": {
             "colorbar": {
              "outlinewidth": 0,
              "ticks": ""
             }
            },
            "type": "scatterternary"
           }
          ],
          "surface": [
           {
            "colorbar": {
             "outlinewidth": 0,
             "ticks": ""
            },
            "colorscale": [
             [
              0,
              "#0d0887"
             ],
             [
              0.1111111111111111,
              "#46039f"
             ],
             [
              0.2222222222222222,
              "#7201a8"
             ],
             [
              0.3333333333333333,
              "#9c179e"
             ],
             [
              0.4444444444444444,
              "#bd3786"
             ],
             [
              0.5555555555555556,
              "#d8576b"
             ],
             [
              0.6666666666666666,
              "#ed7953"
             ],
             [
              0.7777777777777778,
              "#fb9f3a"
             ],
             [
              0.8888888888888888,
              "#fdca26"
             ],
             [
              1,
              "#f0f921"
             ]
            ],
            "type": "surface"
           }
          ],
          "table": [
           {
            "cells": {
             "fill": {
              "color": "#EBF0F8"
             },
             "line": {
              "color": "white"
             }
            },
            "header": {
             "fill": {
              "color": "#C8D4E3"
             },
             "line": {
              "color": "white"
             }
            },
            "type": "table"
           }
          ]
         },
         "layout": {
          "annotationdefaults": {
           "arrowcolor": "#2a3f5f",
           "arrowhead": 0,
           "arrowwidth": 1
          },
          "coloraxis": {
           "colorbar": {
            "outlinewidth": 0,
            "ticks": ""
           }
          },
          "colorscale": {
           "diverging": [
            [
             0,
             "#8e0152"
            ],
            [
             0.1,
             "#c51b7d"
            ],
            [
             0.2,
             "#de77ae"
            ],
            [
             0.3,
             "#f1b6da"
            ],
            [
             0.4,
             "#fde0ef"
            ],
            [
             0.5,
             "#f7f7f7"
            ],
            [
             0.6,
             "#e6f5d0"
            ],
            [
             0.7,
             "#b8e186"
            ],
            [
             0.8,
             "#7fbc41"
            ],
            [
             0.9,
             "#4d9221"
            ],
            [
             1,
             "#276419"
            ]
           ],
           "sequential": [
            [
             0,
             "#0d0887"
            ],
            [
             0.1111111111111111,
             "#46039f"
            ],
            [
             0.2222222222222222,
             "#7201a8"
            ],
            [
             0.3333333333333333,
             "#9c179e"
            ],
            [
             0.4444444444444444,
             "#bd3786"
            ],
            [
             0.5555555555555556,
             "#d8576b"
            ],
            [
             0.6666666666666666,
             "#ed7953"
            ],
            [
             0.7777777777777778,
             "#fb9f3a"
            ],
            [
             0.8888888888888888,
             "#fdca26"
            ],
            [
             1,
             "#f0f921"
            ]
           ],
           "sequentialminus": [
            [
             0,
             "#0d0887"
            ],
            [
             0.1111111111111111,
             "#46039f"
            ],
            [
             0.2222222222222222,
             "#7201a8"
            ],
            [
             0.3333333333333333,
             "#9c179e"
            ],
            [
             0.4444444444444444,
             "#bd3786"
            ],
            [
             0.5555555555555556,
             "#d8576b"
            ],
            [
             0.6666666666666666,
             "#ed7953"
            ],
            [
             0.7777777777777778,
             "#fb9f3a"
            ],
            [
             0.8888888888888888,
             "#fdca26"
            ],
            [
             1,
             "#f0f921"
            ]
           ]
          },
          "colorway": [
           "#636efa",
           "#EF553B",
           "#00cc96",
           "#ab63fa",
           "#FFA15A",
           "#19d3f3",
           "#FF6692",
           "#B6E880",
           "#FF97FF",
           "#FECB52"
          ],
          "font": {
           "color": "#2a3f5f"
          },
          "geo": {
           "bgcolor": "white",
           "lakecolor": "white",
           "landcolor": "#E5ECF6",
           "showlakes": true,
           "showland": true,
           "subunitcolor": "white"
          },
          "hoverlabel": {
           "align": "left"
          },
          "hovermode": "closest",
          "mapbox": {
           "style": "light"
          },
          "paper_bgcolor": "white",
          "plot_bgcolor": "#E5ECF6",
          "polar": {
           "angularaxis": {
            "gridcolor": "white",
            "linecolor": "white",
            "ticks": ""
           },
           "bgcolor": "#E5ECF6",
           "radialaxis": {
            "gridcolor": "white",
            "linecolor": "white",
            "ticks": ""
           }
          },
          "scene": {
           "xaxis": {
            "backgroundcolor": "#E5ECF6",
            "gridcolor": "white",
            "gridwidth": 2,
            "linecolor": "white",
            "showbackground": true,
            "ticks": "",
            "zerolinecolor": "white"
           },
           "yaxis": {
            "backgroundcolor": "#E5ECF6",
            "gridcolor": "white",
            "gridwidth": 2,
            "linecolor": "white",
            "showbackground": true,
            "ticks": "",
            "zerolinecolor": "white"
           },
           "zaxis": {
            "backgroundcolor": "#E5ECF6",
            "gridcolor": "white",
            "gridwidth": 2,
            "linecolor": "white",
            "showbackground": true,
            "ticks": "",
            "zerolinecolor": "white"
           }
          },
          "shapedefaults": {
           "line": {
            "color": "#2a3f5f"
           }
          },
          "ternary": {
           "aaxis": {
            "gridcolor": "white",
            "linecolor": "white",
            "ticks": ""
           },
           "baxis": {
            "gridcolor": "white",
            "linecolor": "white",
            "ticks": ""
           },
           "bgcolor": "#E5ECF6",
           "caxis": {
            "gridcolor": "white",
            "linecolor": "white",
            "ticks": ""
           }
          },
          "title": {
           "x": 0.05
          },
          "xaxis": {
           "automargin": true,
           "gridcolor": "white",
           "linecolor": "white",
           "ticks": "",
           "title": {
            "standoff": 15
           },
           "zerolinecolor": "white",
           "zerolinewidth": 2
          },
          "yaxis": {
           "automargin": true,
           "gridcolor": "white",
           "linecolor": "white",
           "ticks": "",
           "title": {
            "standoff": 15
           },
           "zerolinecolor": "white",
           "zerolinewidth": 2
          }
         }
        },
        "title": {
         "text": "Victim's Race and Age wise Complaints count "
        },
        "xaxis": {
         "title": {
          "text": "Victim Race"
         }
        },
        "yaxis": {
         "title": {
          "text": "Count of Complaints"
         }
        }
       }
      },
      "text/html": [
       "<div>\n",
       "        \n",
       "        \n",
       "            <div id=\"f526ec1f-1dde-4dac-b26f-db1e31fba441\" class=\"plotly-graph-div\" style=\"height:525px; width:100%;\"></div>\n",
       "            <script type=\"text/javascript\">\n",
       "                require([\"plotly\"], function(Plotly) {\n",
       "                    window.PLOTLYENV=window.PLOTLYENV || {};\n",
       "                    \n",
       "                if (document.getElementById(\"f526ec1f-1dde-4dac-b26f-db1e31fba441\")) {\n",
       "                    Plotly.newPlot(\n",
       "                        'f526ec1f-1dde-4dac-b26f-db1e31fba441',\n",
       "                        [{\"name\": \"25-44\", \"type\": \"bar\", \"x\": [\"Black\", \"White Hispanic\", \"White\", \"Asian / Pacific Islander\", \"Black Hispanic\", \"American Indian/Alaskan Native\"], \"y\": [54932, 39628, 34160, 15722, 8686, 1304]}, {\"name\": \"45-64\", \"type\": \"bar\", \"x\": [\"Black\", \"White\", \"White Hispanic\", \"Asian / Pacific Islander\", \"Black Hispanic\", \"American Indian/Alaskan Native\"], \"y\": [29927, 20866, 17353, 8536, 3804, 666]}, {\"name\": \"18-24\", \"type\": \"bar\", \"x\": [\"Black\", \"White Hispanic\", \"White\", \"Asian / Pacific Islander\", \"Black Hispanic\", \"American Indian/Alaskan Native\"], \"y\": [15477, 11785, 7280, 4518, 2761, 379]}, {\"name\": \"65+\", \"type\": \"bar\", \"x\": [\"White\", \"Black\", \"White Hispanic\", \"Asian / Pacific Islander\", \"Black Hispanic\", \"American Indian/Alaskan Native\"], \"y\": [7391, 5578, 3010, 1454, 693, 87]}, {\"name\": \"<18\", \"type\": \"bar\", \"x\": [\"Black\", \"White Hispanic\", \"White\", \"Black Hispanic\", \"Asian / Pacific Islander\", \"American Indian/Alaskan Native\"], \"y\": [7227, 5623, 2041, 1492, 1277, 87]}],\n",
       "                        {\"template\": {\"data\": {\"bar\": [{\"error_x\": {\"color\": \"#2a3f5f\"}, \"error_y\": {\"color\": \"#2a3f5f\"}, \"marker\": {\"line\": {\"color\": \"#E5ECF6\", \"width\": 0.5}}, \"type\": \"bar\"}], \"barpolar\": [{\"marker\": {\"line\": {\"color\": \"#E5ECF6\", \"width\": 0.5}}, \"type\": \"barpolar\"}], \"carpet\": [{\"aaxis\": {\"endlinecolor\": \"#2a3f5f\", \"gridcolor\": \"white\", \"linecolor\": \"white\", \"minorgridcolor\": \"white\", \"startlinecolor\": \"#2a3f5f\"}, \"baxis\": {\"endlinecolor\": \"#2a3f5f\", \"gridcolor\": \"white\", \"linecolor\": \"white\", \"minorgridcolor\": \"white\", \"startlinecolor\": \"#2a3f5f\"}, \"type\": \"carpet\"}], \"choropleth\": [{\"colorbar\": {\"outlinewidth\": 0, \"ticks\": \"\"}, \"type\": \"choropleth\"}], \"contour\": [{\"colorbar\": {\"outlinewidth\": 0, \"ticks\": \"\"}, \"colorscale\": [[0.0, \"#0d0887\"], [0.1111111111111111, \"#46039f\"], [0.2222222222222222, \"#7201a8\"], [0.3333333333333333, \"#9c179e\"], [0.4444444444444444, \"#bd3786\"], [0.5555555555555556, \"#d8576b\"], [0.6666666666666666, \"#ed7953\"], [0.7777777777777778, \"#fb9f3a\"], [0.8888888888888888, \"#fdca26\"], [1.0, \"#f0f921\"]], \"type\": \"contour\"}], \"contourcarpet\": [{\"colorbar\": {\"outlinewidth\": 0, \"ticks\": \"\"}, \"type\": \"contourcarpet\"}], \"heatmap\": [{\"colorbar\": {\"outlinewidth\": 0, \"ticks\": \"\"}, \"colorscale\": [[0.0, \"#0d0887\"], [0.1111111111111111, \"#46039f\"], [0.2222222222222222, \"#7201a8\"], [0.3333333333333333, \"#9c179e\"], [0.4444444444444444, \"#bd3786\"], [0.5555555555555556, \"#d8576b\"], [0.6666666666666666, \"#ed7953\"], [0.7777777777777778, \"#fb9f3a\"], [0.8888888888888888, \"#fdca26\"], [1.0, \"#f0f921\"]], \"type\": \"heatmap\"}], \"heatmapgl\": [{\"colorbar\": {\"outlinewidth\": 0, \"ticks\": \"\"}, \"colorscale\": [[0.0, \"#0d0887\"], [0.1111111111111111, \"#46039f\"], [0.2222222222222222, \"#7201a8\"], [0.3333333333333333, \"#9c179e\"], [0.4444444444444444, \"#bd3786\"], [0.5555555555555556, \"#d8576b\"], [0.6666666666666666, \"#ed7953\"], [0.7777777777777778, \"#fb9f3a\"], [0.8888888888888888, \"#fdca26\"], [1.0, \"#f0f921\"]], \"type\": \"heatmapgl\"}], \"histogram\": [{\"marker\": {\"colorbar\": {\"outlinewidth\": 0, \"ticks\": \"\"}}, \"type\": \"histogram\"}], \"histogram2d\": [{\"colorbar\": {\"outlinewidth\": 0, \"ticks\": \"\"}, \"colorscale\": [[0.0, \"#0d0887\"], [0.1111111111111111, \"#46039f\"], [0.2222222222222222, \"#7201a8\"], [0.3333333333333333, \"#9c179e\"], [0.4444444444444444, \"#bd3786\"], [0.5555555555555556, \"#d8576b\"], [0.6666666666666666, \"#ed7953\"], [0.7777777777777778, \"#fb9f3a\"], [0.8888888888888888, \"#fdca26\"], [1.0, \"#f0f921\"]], \"type\": \"histogram2d\"}], \"histogram2dcontour\": [{\"colorbar\": {\"outlinewidth\": 0, \"ticks\": \"\"}, \"colorscale\": [[0.0, \"#0d0887\"], [0.1111111111111111, \"#46039f\"], [0.2222222222222222, \"#7201a8\"], [0.3333333333333333, \"#9c179e\"], [0.4444444444444444, \"#bd3786\"], [0.5555555555555556, \"#d8576b\"], [0.6666666666666666, \"#ed7953\"], [0.7777777777777778, \"#fb9f3a\"], [0.8888888888888888, \"#fdca26\"], [1.0, \"#f0f921\"]], \"type\": \"histogram2dcontour\"}], \"mesh3d\": [{\"colorbar\": {\"outlinewidth\": 0, \"ticks\": \"\"}, \"type\": \"mesh3d\"}], \"parcoords\": [{\"line\": {\"colorbar\": {\"outlinewidth\": 0, \"ticks\": \"\"}}, \"type\": \"parcoords\"}], \"pie\": [{\"automargin\": true, \"type\": \"pie\"}], \"scatter\": [{\"marker\": {\"colorbar\": {\"outlinewidth\": 0, \"ticks\": \"\"}}, \"type\": \"scatter\"}], \"scatter3d\": [{\"line\": {\"colorbar\": {\"outlinewidth\": 0, \"ticks\": \"\"}}, \"marker\": {\"colorbar\": {\"outlinewidth\": 0, \"ticks\": \"\"}}, \"type\": \"scatter3d\"}], \"scattercarpet\": [{\"marker\": {\"colorbar\": {\"outlinewidth\": 0, \"ticks\": \"\"}}, \"type\": \"scattercarpet\"}], \"scattergeo\": [{\"marker\": {\"colorbar\": {\"outlinewidth\": 0, \"ticks\": \"\"}}, \"type\": \"scattergeo\"}], \"scattergl\": [{\"marker\": {\"colorbar\": {\"outlinewidth\": 0, \"ticks\": \"\"}}, \"type\": \"scattergl\"}], \"scattermapbox\": [{\"marker\": {\"colorbar\": {\"outlinewidth\": 0, \"ticks\": \"\"}}, \"type\": \"scattermapbox\"}], \"scatterpolar\": [{\"marker\": {\"colorbar\": {\"outlinewidth\": 0, \"ticks\": \"\"}}, \"type\": \"scatterpolar\"}], \"scatterpolargl\": [{\"marker\": {\"colorbar\": {\"outlinewidth\": 0, \"ticks\": \"\"}}, \"type\": \"scatterpolargl\"}], \"scatterternary\": [{\"marker\": {\"colorbar\": {\"outlinewidth\": 0, \"ticks\": \"\"}}, \"type\": \"scatterternary\"}], \"surface\": [{\"colorbar\": {\"outlinewidth\": 0, \"ticks\": \"\"}, \"colorscale\": [[0.0, \"#0d0887\"], [0.1111111111111111, \"#46039f\"], [0.2222222222222222, \"#7201a8\"], [0.3333333333333333, \"#9c179e\"], [0.4444444444444444, \"#bd3786\"], [0.5555555555555556, \"#d8576b\"], [0.6666666666666666, \"#ed7953\"], [0.7777777777777778, \"#fb9f3a\"], [0.8888888888888888, \"#fdca26\"], [1.0, \"#f0f921\"]], \"type\": \"surface\"}], \"table\": [{\"cells\": {\"fill\": {\"color\": \"#EBF0F8\"}, \"line\": {\"color\": \"white\"}}, \"header\": {\"fill\": {\"color\": \"#C8D4E3\"}, \"line\": {\"color\": \"white\"}}, \"type\": \"table\"}]}, \"layout\": {\"annotationdefaults\": {\"arrowcolor\": \"#2a3f5f\", \"arrowhead\": 0, \"arrowwidth\": 1}, \"coloraxis\": {\"colorbar\": {\"outlinewidth\": 0, \"ticks\": \"\"}}, \"colorscale\": {\"diverging\": [[0, \"#8e0152\"], [0.1, \"#c51b7d\"], [0.2, \"#de77ae\"], [0.3, \"#f1b6da\"], [0.4, \"#fde0ef\"], [0.5, \"#f7f7f7\"], [0.6, \"#e6f5d0\"], [0.7, \"#b8e186\"], [0.8, \"#7fbc41\"], [0.9, \"#4d9221\"], [1, \"#276419\"]], \"sequential\": [[0.0, \"#0d0887\"], [0.1111111111111111, \"#46039f\"], [0.2222222222222222, \"#7201a8\"], [0.3333333333333333, \"#9c179e\"], [0.4444444444444444, \"#bd3786\"], [0.5555555555555556, \"#d8576b\"], [0.6666666666666666, \"#ed7953\"], [0.7777777777777778, \"#fb9f3a\"], [0.8888888888888888, \"#fdca26\"], [1.0, \"#f0f921\"]], \"sequentialminus\": [[0.0, \"#0d0887\"], [0.1111111111111111, \"#46039f\"], [0.2222222222222222, \"#7201a8\"], [0.3333333333333333, \"#9c179e\"], [0.4444444444444444, \"#bd3786\"], [0.5555555555555556, \"#d8576b\"], [0.6666666666666666, \"#ed7953\"], [0.7777777777777778, \"#fb9f3a\"], [0.8888888888888888, \"#fdca26\"], [1.0, \"#f0f921\"]]}, \"colorway\": [\"#636efa\", \"#EF553B\", \"#00cc96\", \"#ab63fa\", \"#FFA15A\", \"#19d3f3\", \"#FF6692\", \"#B6E880\", \"#FF97FF\", \"#FECB52\"], \"font\": {\"color\": \"#2a3f5f\"}, \"geo\": {\"bgcolor\": \"white\", \"lakecolor\": \"white\", \"landcolor\": \"#E5ECF6\", \"showlakes\": true, \"showland\": true, \"subunitcolor\": \"white\"}, \"hoverlabel\": {\"align\": \"left\"}, \"hovermode\": \"closest\", \"mapbox\": {\"style\": \"light\"}, \"paper_bgcolor\": \"white\", \"plot_bgcolor\": \"#E5ECF6\", \"polar\": {\"angularaxis\": {\"gridcolor\": \"white\", \"linecolor\": \"white\", \"ticks\": \"\"}, \"bgcolor\": \"#E5ECF6\", \"radialaxis\": {\"gridcolor\": \"white\", \"linecolor\": \"white\", \"ticks\": \"\"}}, \"scene\": {\"xaxis\": {\"backgroundcolor\": \"#E5ECF6\", \"gridcolor\": \"white\", \"gridwidth\": 2, \"linecolor\": \"white\", \"showbackground\": true, \"ticks\": \"\", \"zerolinecolor\": \"white\"}, \"yaxis\": {\"backgroundcolor\": \"#E5ECF6\", \"gridcolor\": \"white\", \"gridwidth\": 2, \"linecolor\": \"white\", \"showbackground\": true, \"ticks\": \"\", \"zerolinecolor\": \"white\"}, \"zaxis\": {\"backgroundcolor\": \"#E5ECF6\", \"gridcolor\": \"white\", \"gridwidth\": 2, \"linecolor\": \"white\", \"showbackground\": true, \"ticks\": \"\", \"zerolinecolor\": \"white\"}}, \"shapedefaults\": {\"line\": {\"color\": \"#2a3f5f\"}}, \"ternary\": {\"aaxis\": {\"gridcolor\": \"white\", \"linecolor\": \"white\", \"ticks\": \"\"}, \"baxis\": {\"gridcolor\": \"white\", \"linecolor\": \"white\", \"ticks\": \"\"}, \"bgcolor\": \"#E5ECF6\", \"caxis\": {\"gridcolor\": \"white\", \"linecolor\": \"white\", \"ticks\": \"\"}}, \"title\": {\"x\": 0.05}, \"xaxis\": {\"automargin\": true, \"gridcolor\": \"white\", \"linecolor\": \"white\", \"ticks\": \"\", \"title\": {\"standoff\": 15}, \"zerolinecolor\": \"white\", \"zerolinewidth\": 2}, \"yaxis\": {\"automargin\": true, \"gridcolor\": \"white\", \"linecolor\": \"white\", \"ticks\": \"\", \"title\": {\"standoff\": 15}, \"zerolinecolor\": \"white\", \"zerolinewidth\": 2}}}, \"title\": {\"text\": \"Victim's Race and Age wise Complaints count \"}, \"xaxis\": {\"title\": {\"text\": \"Victim Race\"}}, \"yaxis\": {\"title\": {\"text\": \"Count of Complaints\"}}},\n",
       "                        {\"responsive\": true}\n",
       "                    ).then(function(){\n",
       "                            \n",
       "var gd = document.getElementById('f526ec1f-1dde-4dac-b26f-db1e31fba441');\n",
       "var x = new MutationObserver(function (mutations, observer) {{\n",
       "        var display = window.getComputedStyle(gd).display;\n",
       "        if (!display || display === 'none') {{\n",
       "            console.log([gd, 'removed!']);\n",
       "            Plotly.purge(gd);\n",
       "            observer.disconnect();\n",
       "        }}\n",
       "}});\n",
       "\n",
       "// Listen for the removal of the full notebook cells\n",
       "var notebookContainer = gd.closest('#notebook-container');\n",
       "if (notebookContainer) {{\n",
       "    x.observe(notebookContainer, {childList: true});\n",
       "}}\n",
       "\n",
       "// Listen for the clearing of the current output cell\n",
       "var outputEl = gd.closest('.output');\n",
       "if (outputEl) {{\n",
       "    x.observe(outputEl, {childList: true});\n",
       "}}\n",
       "\n",
       "                        })\n",
       "                };\n",
       "                });\n",
       "            </script>\n",
       "        </div>"
      ]
     },
     "metadata": {},
     "output_type": "display_data"
    }
   ],
   "source": [
    "graphFiveDF = complaints_clean_df.groupby([\"vic_race\",\"vic_age_group\"]).count()['cmplnt_num'].reset_index()\n",
    "graphFiveDF = graphFiveDF[graphFiveDF[\"cmplnt_num\"]>0].sort_values(by = \"cmplnt_num\", ascending = False)\n",
    "\n",
    "complaintsdic = {}\n",
    "for keys, values in graphFiveDF.iterrows():\n",
    "    dictKey = values[\"vic_age_group\"].title()\n",
    "    if dictKey not in complaintsdic: # Check if the key exist in the dictionary\n",
    "        complaintsdic[dictKey] = {}\n",
    "        complaintsdic[dictKey][\"x\"] = []\n",
    "        complaintsdic[dictKey][\"y\"] = []\n",
    "    \n",
    "    complaintsdic[dictKey][\"x\"].append(values[\"vic_race\"].title())    \n",
    "    complaintsdic[dictKey][\"y\"].append(values[\"cmplnt_num\"])\n",
    "# print(admissionType)     \n",
    "\n",
    "graphList = []\n",
    "for keys, values in enumerate(complaintsdic):\n",
    "    graphList.append(go.Bar(\n",
    "        name = values,\n",
    "        x = complaintsdic[values][\"x\"],\n",
    "        y = complaintsdic[values][\"y\"]\n",
    "    ))\n",
    "fig = go.Figure()\n",
    "fig = go.Figure(data = graphList)\n",
    "fig.update_layout(\n",
    "    title=\"Victim's Race and Age wise Complaints count \",\n",
    "    xaxis_title=\"Victim Race\",\n",
    "    yaxis_title=\"Count of Complaints\"\n",
    ")\n",
    "fig.show()"
   ]
  },
  {
   "cell_type": "code",
   "execution_count": 40,
   "metadata": {},
   "outputs": [
    {
     "name": "stdout",
     "output_type": "stream",
     "text": [
      "                               ofns_desc    day\n",
      "18                         HARRASSMENT 2  63675\n",
      "3           ASSAULT 3 & RELATED OFFENSES  48847\n",
      "33                         PETIT LARCENY  45615\n",
      "16                         GRAND LARCENY  32574\n",
      "7         CRIMINAL MISCHIEF & RELATED OF  25626\n",
      "12                        FELONY ASSAULT  18619\n",
      "26         OFF. AGNST PUB ORD SENSBLTY &  17874\n",
      "38                               ROBBERY  11121\n",
      "23               MISCELLANEOUS PENAL LAW   9253\n",
      "5                               BURGLARY   6941\n",
      "39                            SEX CRIMES   5669\n",
      "42              VEHICLE AND TRAFFIC LAWS   5396\n",
      "27        OFFENSES AGAINST PUBLIC ADMINI   4406\n",
      "17        GRAND LARCENY OF MOTOR VEHICLE   4277\n",
      "40                           THEFT-FRAUD   2971\n",
      "14                                FRAUDS   1484\n",
      "37                                  RAPE   1399\n",
      "8                      CRIMINAL TRESPASS   1233\n",
      "10                     DANGEROUS WEAPONS   1017\n",
      "41         UNAUTHORIZED USE OF A VEHICLE    878\n",
      "0                    ADMINISTRATIVE CODE    866\n",
      "13                               FORGERY    633\n",
      "31        OTHER OFFENSES RELATED TO THEF    623\n",
      "35         POSSESSION OF STOLEN PROPERTY    609\n",
      "29           OFFENSES AGAINST THE PERSON    452\n",
      "19        INTOXICATED & IMPAIRED DRIVING    327\n",
      "9                        DANGEROUS DRUGS    171\n",
      "2                                  ARSON    143\n",
      "15                  FRAUDULENT ACCOSTING    132\n",
      "22         KIDNAPPING & RELATED OFFENSES     99\n",
      "34        PETIT LARCENY OF MOTOR VEHICLE     90\n",
      "4                        BURGLAR'S TOOLS     42\n",
      "1   AGRICULTURE & MRKTS LAW-UNCLASSIFIED     27\n",
      "36       PROSTITUTION & RELATED OFFENSES     27\n",
      "30              OFFENSES INVOLVING FRAUD     24\n",
      "6          CHILD ABANDONMENT/NON SUPPORT     18\n",
      "32        OTHER STATE LAWS (NON PENAL LA     18\n",
      "20                              JOSTLING     18\n",
      "28        OFFENSES AGAINST PUBLIC SAFETY     10\n",
      "11                  ENDAN WELFARE INCOMP      9\n",
      "25          NYS LAWS-UNCLASSIFIED FELONY      9\n",
      "24             NEW YORK CITY HEALTH CODE      9\n",
      "21                            KIDNAPPING      9\n",
      "AxesSubplot(0.125,0.125;0.775x0.755)\n"
     ]
    },
    {
     "data": {
      "image/png": "[encoded data removed]",
      "text/plain": [
       "<Figure size 432x288 with 1 Axes>"
      ]
     },
     "metadata": {
      "needs_background": "light"
     },
     "output_type": "display_data"
    }
   ],
   "source": [
    "#Top 10 crimes\n",
    "graph_fiveDF = complaints_clean_df.groupby(\"ofns_desc\").count()[[\"day\"]].reset_index()\n",
    "graph_fiveDF = graph_fiveDF.sort_values(\"day\", ascending = False)\n",
    "print (graph_fiveDF)\n",
    "\n",
    "ax = sns.barplot(x = \"day\", y = \"ofns_desc\", data = graph_fiveDF[0:10])\n",
    "ax.axes.xaxis.label.set_text(\"Counts\")\n",
    "ax.axes.yaxis.label.set_text(\"Offence\")\n",
    "print (ax)"
   ]
  }
 ],
 "metadata": {
  "kernelspec": {
   "display_name": "Python 3",
   "language": "python",
   "name": "python3"
  },
  "language_info": {
   "codemirror_mode": {
    "name": "ipython",
    "version": 3
   },
   "file_extension": ".py",
   "mimetype": "text/x-python",
   "name": "python",
   "nbconvert_exporter": "python",
   "pygments_lexer": "ipython3",
   "version": "3.7.3"
  }
 },
 "nbformat": 4,
 "nbformat_minor": 2
}
